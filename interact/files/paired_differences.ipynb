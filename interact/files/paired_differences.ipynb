{
 "cells": [
  {
   "cell_type": "markdown",
   "id": "549ee95b",
   "metadata": {},
   "source": [
    "# Paired differences exercise"
   ]
  },
  {
   "cell_type": "markdown",
   "id": "fb72ac81",
   "metadata": {},
   "source": [
    "Find this notebook on the web at\n",
    "<a class=\"quarto-xref\" href=\"/edition-3-r/testing_measured.html#nte-paired_differences\">Note <span>24.7</span></a>."
   ]
  },
  {
   "cell_type": "code",
   "execution_count": null,
   "id": "a2efa803",
   "metadata": {},
   "outputs": [],
   "source": [
    "# Read data from web URL instead of local data directory\n",
    "# (so that notebook works in online version).\n",
    "df <- read.csv('/interact/files/data/hamilton.csv')\n",
    "before <- df$score_before\n",
    "after <- df$score_after\n",
    "\n",
    "# Your code here."
   ]
  }
 ],
 "metadata": {
  "jupytext": {
   "cell_metadata_filter": "-all",
   "main_language": "R",
   "notebook_metadata_filter": "-all"
  },
  "kernelspec": {
   "display_name": "R (webR)",
   "name": "webR"
  }
 },
 "nbformat": 4,
 "nbformat_minor": 5
}
